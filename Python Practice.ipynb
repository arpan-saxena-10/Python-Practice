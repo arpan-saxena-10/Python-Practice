{
 "cells": [
  {
   "cell_type": "markdown",
   "id": "64fa6917-deec-4014-9e06-8544e98e8f51",
   "metadata": {},
   "source": [
    "# Python Practice"
   ]
  },
  {
   "cell_type": "markdown",
   "id": "8a08685e-9fc1-4344-8063-d1e89b2ce262",
   "metadata": {},
   "source": [
    "# Problem 1: Introduction to Lists\n",
    "Scenario:\n",
    "You are tasked with managing a simple list of students in a class. Each student’s name is stored in the list.\n",
    "\n",
    "Starter Code:"
   ]
  },
  {
   "cell_type": "markdown",
   "id": "0e8886e0-b13d-4e53-bf41-006df038168a",
   "metadata": {},
   "source": [
    "## Problem Statement:\n",
    "\n",
    "* Write a program to print the first and last student names in the list.\n",
    "* Add a new student, \"Eve\", to the end of the list.\n",
    "* Remove the student \"David\" from the list and print the updated list."
   ]
  },
  {
   "cell_type": "markdown",
   "id": "6a3b693b-71b2-48a2-9a12-aac8f9e0b7ec",
   "metadata": {},
   "source": [
    "### Starter Code\n"
   ]
  },
  {
   "cell_type": "code",
   "execution_count": 3,
   "id": "12e2e508-c87b-4010-9d8b-0428275c66da",
   "metadata": {},
   "outputs": [],
   "source": [
    "students = [\"Alice\", \"Bob\", \"Charlie\", \"David\"]"
   ]
  },
  {
   "cell_type": "code",
   "execution_count": null,
   "id": "74517db4-f885-43e1-b1ce-f16ab5dbe9b6",
   "metadata": {},
   "outputs": [],
   "source": []
  },
  {
   "cell_type": "code",
   "execution_count": null,
   "id": "87630ca4-0ecd-48bb-8f08-ced7048ba870",
   "metadata": {},
   "outputs": [],
   "source": []
  },
  {
   "cell_type": "markdown",
   "id": "44b9cdac-9e86-4fd8-81b9-3d383759c609",
   "metadata": {},
   "source": [
    "# Problem 2: List Operations\n",
    "Scenario:\n",
    "You need to manage a list of temperatures recorded in Celsius for a week."
   ]
  },
  {
   "cell_type": "markdown",
   "id": "712b38f9-2096-4a17-936b-276301647599",
   "metadata": {},
   "source": [
    "### Problem Statement:\n",
    "\n",
    "* Find the average temperature for the week.\n",
    "* Find the highest and lowest temperature recorded during the week."
   ]
  },
  {
   "cell_type": "markdown",
   "id": "98203871-4523-4981-b1e6-61bc143c6544",
   "metadata": {},
   "source": [
    "### Starter Code"
   ]
  },
  {
   "cell_type": "markdown",
   "id": "c354725d-072b-421c-864d-80e55abbc17a",
   "metadata": {},
   "source": [
    "temperatures = [22, 25, 19, 24, 23, 21, 26]\r\n"
   ]
  },
  {
   "cell_type": "code",
   "execution_count": null,
   "id": "69ee64fa-0b90-4c47-aa41-7df6544bc11e",
   "metadata": {},
   "outputs": [],
   "source": []
  },
  {
   "cell_type": "code",
   "execution_count": null,
   "id": "c2f27422-1e11-4298-9075-07f8cefb6ce4",
   "metadata": {},
   "outputs": [],
   "source": []
  },
  {
   "cell_type": "markdown",
   "id": "e3728050-2f1a-40c4-b1db-97e2fbca8dc7",
   "metadata": {},
   "source": [
    "# Problem 3: Tuples for Coordinates\n",
    "Scenario:\n",
    "You are developing a 2D game where the position of a player is stored as a coordinate in a tuple."
   ]
  },
  {
   "cell_type": "markdown",
   "id": "c472b715-09f4-4c3b-96b8-c5a5c3d4fb77",
   "metadata": {},
   "source": [
    "## Problem Statement:\n",
    "\n",
    "* Update the x-coordinate of the player to 8 and print the new position.\n",
    "* Swap the values of the x and y coordinates without directly modifying the tuple."
   ]
  },
  {
   "cell_type": "markdown",
   "id": "3bf1f91a-a633-4600-806c-30154ade1875",
   "metadata": {},
   "source": [
    "### Starter Code"
   ]
  },
  {
   "cell_type": "code",
   "execution_count": 17,
   "id": "9afa4cd2-62db-47ed-bf3b-678b2ed79a1e",
   "metadata": {},
   "outputs": [],
   "source": [
    "player_position = (5, 10)"
   ]
  },
  {
   "cell_type": "code",
   "execution_count": null,
   "id": "9b78ec9e-35f2-4ed2-99c0-2335afaf9743",
   "metadata": {},
   "outputs": [],
   "source": []
  },
  {
   "cell_type": "code",
   "execution_count": null,
   "id": "a93c1c3b-0510-40e7-a923-03dfc1548b27",
   "metadata": {},
   "outputs": [],
   "source": []
  },
  {
   "cell_type": "markdown",
   "id": "919f56df-e836-4f55-a040-a36208a5c488",
   "metadata": {},
   "source": [
    "# Problem 4: Tuple and List Conversion\n",
    "Scenario:\n",
    "You are given a tuple of numbers, and you need to perform some operations on it."
   ]
  },
  {
   "cell_type": "markdown",
   "id": "f1424677-8c74-4375-a6d4-8a6ded469b2c",
   "metadata": {},
   "source": [
    "## Problem Statement:\n",
    "\n",
    "* Convert the tuple into a list and append the number 6.\n",
    "* Convert the list back into a tuple and print it."
   ]
  },
  {
   "cell_type": "markdown",
   "id": "8bef4784-3b4d-4f5e-bc7b-1242f22555ee",
   "metadata": {},
   "source": [
    "### Starter Code"
   ]
  },
  {
   "cell_type": "code",
   "execution_count": 26,
   "id": "b4af1569-16f3-4343-9142-4f0aac2c4794",
   "metadata": {},
   "outputs": [],
   "source": [
    "numbers = (1, 2, 3, 4, 5)"
   ]
  },
  {
   "cell_type": "code",
   "execution_count": null,
   "id": "edfb1f13-8bc5-4f7e-9dd4-d5ee0a4e5b86",
   "metadata": {},
   "outputs": [],
   "source": []
  },
  {
   "cell_type": "code",
   "execution_count": null,
   "id": "a3a7fac1-960f-4644-ab30-bd04cea4a654",
   "metadata": {},
   "outputs": [],
   "source": []
  },
  {
   "cell_type": "markdown",
   "id": "9d76efad-bd7e-42f5-8158-b2c21b6424f4",
   "metadata": {},
   "source": [
    "# Problem 5: Dictionary for Contacts\n",
    "Scenario:\n",
    "You are developing a contact book using a dictionary, where the name is the key, and the phone number is the value."
   ]
  },
  {
   "cell_type": "markdown",
   "id": "6defdbaa-71a3-47ae-a3be-4d92dc85fb19",
   "metadata": {},
   "source": [
    "## Problem Statement:\n",
    "\n",
    "* Add a new contact for \"David\" with phone number \"33445\".\n",
    "* Retrieve the phone number of \"Bob\" from the contact book.\n",
    "* Remove \"Charlie\" from the contact book."
   ]
  },
  {
   "cell_type": "markdown",
   "id": "8b5ae186-e86f-41f5-b478-8c66ea28dc62",
   "metadata": {},
   "source": [
    "### Starter Code:"
   ]
  },
  {
   "cell_type": "code",
   "execution_count": 37,
   "id": "722f98c2-3f82-4a3e-980c-fb87d1ac2d4e",
   "metadata": {},
   "outputs": [],
   "source": [
    "contacts = {\"Alice\": \"12345\", \"Bob\": \"67890\", \"Charlie\": \"11223\"}"
   ]
  },
  {
   "cell_type": "code",
   "execution_count": null,
   "id": "c3236d3f-de04-4514-b97f-d3b13088de08",
   "metadata": {},
   "outputs": [],
   "source": []
  },
  {
   "cell_type": "code",
   "execution_count": null,
   "id": "7dfd3fa8-6bcb-4ed7-bbb4-b424a0df25a3",
   "metadata": {},
   "outputs": [],
   "source": []
  },
  {
   "cell_type": "markdown",
   "id": "6b3e8314-6f77-4f06-91ef-ca4b6571c12b",
   "metadata": {},
   "source": [
    "# Problem 6: Dictionary Manipulation\n",
    "Scenario:\n",
    "You are managing the sales data of a store, where product names are the keys, and the sales amounts are the values."
   ]
  },
  {
   "cell_type": "markdown",
   "id": "bea776c7-3a23-476c-ac94-778c8b654310",
   "metadata": {},
   "source": [
    "# Problem Statement:\n",
    "\n",
    "* Update the sales data for \"Bananas\" to 180.\n",
    "* Print the total sales (sum of values in the dictionary).\n",
    "* Delete the \"Cherries\" entry from the dictionary."
   ]
  }
 ],
 "metadata": {
  "kernelspec": {
   "display_name": "Python 3 (ipykernel)",
   "language": "python",
   "name": "python3"
  },
  "language_info": {
   "codemirror_mode": {
    "name": "ipython",
    "version": 3
   },
   "file_extension": ".py",
   "mimetype": "text/x-python",
   "name": "python",
   "nbconvert_exporter": "python",
   "pygments_lexer": "ipython3",
   "version": "3.12.4"
  }
 },
 "nbformat": 4,
 "nbformat_minor": 5
}
